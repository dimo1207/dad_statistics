{
 "cells": [
  {
   "cell_type": "code",
   "execution_count": 153,
   "metadata": {},
   "outputs": [],
   "source": [
    "import math\n",
    "from random import *"
   ]
  },
  {
   "cell_type": "code",
   "execution_count": 154,
   "metadata": {},
   "outputs": [
    {
     "name": "stdout",
     "output_type": "stream",
     "text": [
      "69\n"
     ]
    }
   ],
   "source": [
    "probability = 100  # Ex: for 1/100 odds, enter 100 here\n",
    "\n",
    "# Ex: for 1/100 odds, the calculation for the midpoint looks like: .99^y = 0.5\n",
    "# To find y, the calculation needs to be: log [base:0.99] (0.5) = y\n",
    "# The following code makes this calulation for any probability:\n",
    "\n",
    "base = 1 - (1/probability) # the probability of the roll being unsuccessful; necessary for the calculation\n",
    "cutoff = .5 # Statistical midpoint; half of all successful rolls occur at or below this number\n",
    "exponent = math.log(cutoff, base) # Number of rolls needed to reach midpoint\n",
    "\n",
    "print(round(exponent))"
   ]
  },
  {
   "cell_type": "code",
   "execution_count": 161,
   "metadata": {},
   "outputs": [],
   "source": [
    "batch = 1000000 # total number of rolls used to test the theory\n",
    "\n",
    "n = 1 # roll number\n",
    "successList = []\n",
    "for x in range(1, batch):\n",
    "    target = randint(1, probability)\n",
    "    roll = randint(1, probability)\n",
    "\n",
    "    if roll == target:\n",
    "        successList.append(n)\n",
    "        n = 1\n",
    "    else:\n",
    "        n += 1"
   ]
  },
  {
   "cell_type": "code",
   "execution_count": 162,
   "metadata": {},
   "outputs": [
    {
     "name": "stdout",
     "output_type": "stream",
     "text": [
      "Percentage of successful rolls occuring before or at the halfway point (~69 rolls for 1 in 100 odds):\n",
      "0.494889157035013\n"
     ]
    }
   ],
   "source": [
    "total = 0\n",
    "half = 0\n",
    "for x in successList:\n",
    "    total += x\n",
    "    if x <= exponent: # exponent indicates the number of rolls to reach the midpoint -- where half of all rolls reside below, and half above\n",
    "        half += 1\n",
    "\n",
    "print(f\"Percentage of successful rolls occuring before or at the halfway point (~{round(exponent)} rolls for 1 in {probability} odds):\")\n",
    "print(half/len(successList))"
   ]
  },
  {
   "cell_type": "code",
   "execution_count": 168,
   "metadata": {},
   "outputs": [
    {
     "name": "stdout",
     "output_type": "stream",
     "text": [
      "Fewest attempts required for successful roll: \n",
      "1\n",
      "\n",
      "Greatest number of attempts until successful roll: \n",
      "1047\n"
     ]
    }
   ],
   "source": [
    "print(f\"Fewest attempts required for successful roll: \\n{min(successList)}\\n\")\n",
    "print(f\"Greatest number of attempts until successful roll: \\n{max(successList)}\")"
   ]
  },
  {
   "cell_type": "code",
   "execution_count": 164,
   "metadata": {},
   "outputs": [
    {
     "name": "stdout",
     "output_type": "stream",
     "text": [
      "Most frequent successful roll + frequency: \n",
      "(3, 1034)\n"
     ]
    }
   ],
   "source": [
    "frequency = []\n",
    "for i in successList:\n",
    "    frequency.append((i, successList.count(i)))\n",
    "\n",
    "frequency = set(frequency)\n",
    "y = 1\n",
    "for x in frequency:\n",
    "    # if x[1] > 1:\n",
    "    #     print(x)\n",
    "    if x[1] > y:\n",
    "        y = x[1]\n",
    "        \n",
    "for x in frequency:\n",
    "    if x[1] == y:\n",
    "        print(f\"Most frequent successful roll + frequency: \\n{x}\")"
   ]
  },
  {
   "cell_type": "code",
   "execution_count": 165,
   "metadata": {},
   "outputs": [
    {
     "data": {
      "image/png": "[encoded data removed]",
      "text/plain": [
       "<Figure size 432x288 with 1 Axes>"
      ]
     },
     "metadata": {
      "needs_background": "light"
     },
     "output_type": "display_data"
    }
   ],
   "source": [
    "import matplotlib.pyplot as plt\n",
    "import numpy as np\n",
    "\n",
    "roll = []\n",
    "freq = []\n",
    "for i in successList:\n",
    "    roll.append(i)\n",
    "    freq.append(successList.count(i))\n",
    "plt.scatter(roll, freq)\n",
    "plt.xlabel(\"Roll\")\n",
    "plt.ylabel(\"Frequency\")\n",
    "plt.show()"
   ]
  }
 ],
 "metadata": {
  "kernelspec": {
   "display_name": "Python 3.10.5 64-bit (windows store)",
   "language": "python",
   "name": "python3"
  },
  "language_info": {
   "codemirror_mode": {
    "name": "ipython",
    "version": 3
   },
   "file_extension": ".py",
   "mimetype": "text/x-python",
   "name": "python",
   "nbconvert_exporter": "python",
   "pygments_lexer": "ipython3",
   "version": "3.10.5"
  },
  "orig_nbformat": 4,
  "vscode": {
   "interpreter": {
    "hash": "23d70ba035cc37b845eb78a7340ea66e83f3b59ac283c2bdcbf78b70bd81a6e5"
   }
  }
 },
 "nbformat": 4,
 "nbformat_minor": 2
}
